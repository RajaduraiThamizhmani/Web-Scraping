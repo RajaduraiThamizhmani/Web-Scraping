{
 "cells": [
  {
   "cell_type": "code",
   "execution_count": 1,
   "metadata": {},
   "outputs": [],
   "source": [
    "import tweepy\n",
    "# from textblob import TextBlob\n",
    "from tweepy import OAuthHandler\n",
    "import jsonpickle\n",
    "# import pandas as pd\n",
    "import time"
   ]
  },
  {
   "cell_type": "code",
   "execution_count": 2,
   "metadata": {},
   "outputs": [
    {
     "name": "stdout",
     "output_type": "stream",
     "text": [
      "Authentication OK\n"
     ]
    }
   ],
   "source": [
    "access_token = '1190219954525736961-HY0tALnzDEHWm2KjrIdCfXi7a5sPJB'\n",
    "access_token_secret = 'ZzBPFHBfjGTCgWVP7GvbSucofjCKFbcS4zelu6jiAzt9u'\n",
    "consumer_key = 'nVMEVdzRwWvsoT3uqzHzLvpGq'\n",
    "consumer_secret = 'ZzwSbzC2yeo5daphnSRxQWe2f2Ytamf8boUX4jJ6nQ6gjF1K8n'\n",
    "\n",
    "auth = OAuthHandler(consumer_key, consumer_secret)\n",
    "auth.set_access_token(access_token, access_token_secret)\n",
    "\n",
    "# auth = tweepy.OAuthHandler(\"Jk4mzY6QmtV8cpPlKGANAMlQn\",\n",
    "#                           \"dn0Hj2nB3iitrlqIwXC8I3tUsQgMF7Pa3KCdHdbEwzCIfYKl8T\")\n",
    "# auth.set_access_token(\"309118593-4rwYHPmOey8BFsuUHwHhLUhzXxvyXIwjsEX3tBXZ\",\n",
    "#                      \"Cs0nHXO2Z1sFoe9ukM0D997GWGRiFxZmXuWyGxCzQoFIh\")\n",
    "\n",
    "\n",
    "api = tweepy.API(auth, wait_on_rate_limit=True)\n",
    "\n",
    "# test authentication\n",
    "try:\n",
    "    api.verify_credentials()\n",
    "    print(\"Authentication OK\")\n",
    "except:\n",
    "    print(\"Error during authentication\")"
   ]
  },
  {
   "cell_type": "code",
   "execution_count": 3,
   "metadata": {},
   "outputs": [
    {
     "data": {
      "text/plain": [
       "85221650"
      ]
     },
     "execution_count": 3,
     "metadata": {},
     "output_type": "execute_result"
    }
   ],
   "source": [
    "me = api.get_user(screen_name = 'ncbn')\n",
    "me.id"
   ]
  },
  {
   "cell_type": "code",
   "execution_count": 7,
   "metadata": {},
   "outputs": [
    {
     "name": "stdout",
     "output_type": "stream",
     "text": [
      "5000\n",
      "10000\n",
      "15000\n",
      "20000\n",
      "25000\n",
      "30000\n",
      "35000\n",
      "40000\n",
      "45000\n",
      "50000\n",
      "55000\n",
      "60000\n",
      "65000\n",
      "70000\n",
      "75000\n"
     ]
    },
    {
     "name": "stderr",
     "output_type": "stream",
     "text": [
      "Rate limit reached. Sleeping for: 888\n"
     ]
    },
    {
     "name": "stdout",
     "output_type": "stream",
     "text": [
      "80000\n",
      "85000\n",
      "90000\n",
      "95000\n",
      "100000\n",
      "105000\n",
      "110000\n",
      "115000\n",
      "120000\n",
      "125000\n",
      "130000\n",
      "135000\n",
      "140000\n",
      "145000\n",
      "150000\n"
     ]
    },
    {
     "name": "stderr",
     "output_type": "stream",
     "text": [
      "Rate limit reached. Sleeping for: 888\n"
     ]
    },
    {
     "name": "stdout",
     "output_type": "stream",
     "text": [
      "155000\n",
      "160000\n",
      "165000\n",
      "170000\n",
      "175000\n",
      "180000\n",
      "185000\n",
      "190000\n",
      "195000\n",
      "200000\n",
      "205000\n",
      "210000\n",
      "215000\n",
      "220000\n",
      "225000\n"
     ]
    },
    {
     "name": "stderr",
     "output_type": "stream",
     "text": [
      "Rate limit reached. Sleeping for: 887\n"
     ]
    },
    {
     "name": "stdout",
     "output_type": "stream",
     "text": [
      "230000\n",
      "235000\n",
      "240000\n",
      "245000\n",
      "250000\n",
      "255000\n",
      "260000\n",
      "265000\n",
      "270000\n",
      "275000\n",
      "280000\n",
      "285000\n",
      "290000\n",
      "295000\n",
      "300000\n"
     ]
    },
    {
     "name": "stderr",
     "output_type": "stream",
     "text": [
      "Rate limit reached. Sleeping for: 888\n"
     ]
    },
    {
     "name": "stdout",
     "output_type": "stream",
     "text": [
      "305000\n",
      "310000\n",
      "315000\n",
      "320000\n",
      "325000\n",
      "330000\n",
      "335000\n",
      "340000\n",
      "345000\n",
      "350000\n",
      "355000\n",
      "360000\n",
      "365000\n",
      "370000\n",
      "375000\n"
     ]
    },
    {
     "name": "stderr",
     "output_type": "stream",
     "text": [
      "Rate limit reached. Sleeping for: 873\n"
     ]
    },
    {
     "name": "stdout",
     "output_type": "stream",
     "text": [
      "380000\n",
      "385000\n",
      "390000\n",
      "395000\n",
      "400000\n",
      "405000\n",
      "410000\n",
      "415000\n",
      "420000\n",
      "425000\n",
      "430000\n",
      "435000\n",
      "440000\n",
      "445000\n",
      "450000\n"
     ]
    },
    {
     "name": "stderr",
     "output_type": "stream",
     "text": [
      "Rate limit reached. Sleeping for: 887\n"
     ]
    },
    {
     "name": "stdout",
     "output_type": "stream",
     "text": [
      "455000\n",
      "460000\n",
      "465000\n",
      "470000\n",
      "475000\n",
      "480000\n",
      "485000\n",
      "490000\n",
      "495000\n",
      "500000\n",
      "505000\n",
      "510000\n",
      "515000\n",
      "520000\n",
      "525000\n"
     ]
    },
    {
     "name": "stderr",
     "output_type": "stream",
     "text": [
      "Rate limit reached. Sleeping for: 889\n"
     ]
    },
    {
     "name": "stdout",
     "output_type": "stream",
     "text": [
      "530000\n",
      "535000\n",
      "540000\n",
      "545000\n",
      "550000\n",
      "555000\n",
      "560000\n",
      "565000\n",
      "570000\n",
      "575000\n",
      "580000\n",
      "585000\n",
      "590000\n",
      "595000\n",
      "600000\n"
     ]
    },
    {
     "name": "stderr",
     "output_type": "stream",
     "text": [
      "Rate limit reached. Sleeping for: 889\n"
     ]
    },
    {
     "name": "stdout",
     "output_type": "stream",
     "text": [
      "605000\n",
      "610000\n",
      "615000\n",
      "620000\n",
      "625000\n",
      "630000\n",
      "635000\n",
      "640000\n",
      "645000\n",
      "650000\n",
      "655000\n",
      "660000\n",
      "665000\n",
      "670000\n",
      "675000\n"
     ]
    },
    {
     "name": "stderr",
     "output_type": "stream",
     "text": [
      "Rate limit reached. Sleeping for: 888\n"
     ]
    },
    {
     "name": "stdout",
     "output_type": "stream",
     "text": [
      "680000\n",
      "685000\n",
      "690000\n",
      "695000\n",
      "700000\n",
      "705000\n",
      "710000\n",
      "715000\n",
      "720000\n",
      "725000\n",
      "730000\n",
      "735000\n",
      "740000\n",
      "745000\n",
      "750000\n"
     ]
    },
    {
     "name": "stderr",
     "output_type": "stream",
     "text": [
      "Rate limit reached. Sleeping for: 888\n"
     ]
    },
    {
     "name": "stdout",
     "output_type": "stream",
     "text": [
      "755000\n",
      "760000\n",
      "765000\n",
      "770000\n",
      "775000\n",
      "780000\n",
      "785000\n",
      "790000\n",
      "795000\n",
      "800000\n",
      "805000\n",
      "810000\n",
      "815000\n",
      "820000\n",
      "825000\n"
     ]
    },
    {
     "name": "stderr",
     "output_type": "stream",
     "text": [
      "Rate limit reached. Sleeping for: 889\n"
     ]
    },
    {
     "name": "stdout",
     "output_type": "stream",
     "text": [
      "830000\n",
      "835000\n",
      "840000\n",
      "845000\n",
      "850000\n",
      "855000\n",
      "860000\n",
      "865000\n",
      "870000\n",
      "875000\n",
      "880000\n",
      "885000\n",
      "890000\n",
      "895000\n",
      "900000\n"
     ]
    },
    {
     "name": "stderr",
     "output_type": "stream",
     "text": [
      "Rate limit reached. Sleeping for: 889\n"
     ]
    },
    {
     "name": "stdout",
     "output_type": "stream",
     "text": [
      "905000\n",
      "910000\n",
      "915000\n",
      "920000\n",
      "925000\n",
      "930000\n",
      "935000\n",
      "940000\n",
      "945000\n",
      "950000\n",
      "955000\n",
      "960000\n",
      "965000\n",
      "970000\n",
      "975000\n"
     ]
    },
    {
     "name": "stderr",
     "output_type": "stream",
     "text": [
      "Rate limit reached. Sleeping for: 889\n"
     ]
    },
    {
     "name": "stdout",
     "output_type": "stream",
     "text": [
      "980000\n",
      "985000\n",
      "990000\n",
      "995000\n",
      "1000000\n",
      "1005000\n",
      "1010000\n",
      "1015000\n",
      "1020000\n",
      "1025000\n",
      "1030000\n",
      "1035000\n",
      "1040000\n",
      "1045000\n",
      "1050000\n"
     ]
    },
    {
     "name": "stderr",
     "output_type": "stream",
     "text": [
      "Rate limit reached. Sleeping for: 889\n"
     ]
    },
    {
     "name": "stdout",
     "output_type": "stream",
     "text": [
      "1055000\n",
      "1060000\n",
      "1065000\n",
      "1070000\n",
      "1075000\n",
      "1080000\n",
      "1085000\n",
      "1090000\n",
      "1095000\n",
      "1100000\n",
      "1105000\n",
      "1110000\n",
      "1115000\n",
      "1120000\n",
      "1125000\n"
     ]
    },
    {
     "name": "stderr",
     "output_type": "stream",
     "text": [
      "Rate limit reached. Sleeping for: 889\n"
     ]
    },
    {
     "name": "stdout",
     "output_type": "stream",
     "text": [
      "1130000\n",
      "1135000\n",
      "1140000\n",
      "1145000\n",
      "1150000\n",
      "1155000\n",
      "1160000\n",
      "1165000\n",
      "1170000\n",
      "1175000\n",
      "1180000\n",
      "1185000\n",
      "1190000\n",
      "1195000\n",
      "1200000\n"
     ]
    },
    {
     "name": "stderr",
     "output_type": "stream",
     "text": [
      "Rate limit reached. Sleeping for: 889\n"
     ]
    },
    {
     "name": "stdout",
     "output_type": "stream",
     "text": [
      "1205000\n",
      "1210000\n",
      "1215000\n",
      "1220000\n",
      "1225000\n",
      "1230000\n",
      "1235000\n",
      "1240000\n",
      "1245000\n",
      "1250000\n",
      "1255000\n",
      "1260000\n",
      "1265000\n",
      "1270000\n",
      "1275000\n"
     ]
    },
    {
     "name": "stderr",
     "output_type": "stream",
     "text": [
      "Rate limit reached. Sleeping for: 888\n"
     ]
    },
    {
     "name": "stdout",
     "output_type": "stream",
     "text": [
      "1280000\n",
      "1285000\n",
      "1290000\n",
      "1295000\n",
      "1300000\n",
      "1305000\n",
      "1310000\n",
      "1315000\n",
      "1320000\n",
      "1325000\n",
      "1330000\n",
      "1335000\n",
      "1340000\n",
      "1345000\n",
      "1350000\n"
     ]
    },
    {
     "name": "stderr",
     "output_type": "stream",
     "text": [
      "Rate limit reached. Sleeping for: 889\n"
     ]
    },
    {
     "name": "stdout",
     "output_type": "stream",
     "text": [
      "1355000\n",
      "1360000\n",
      "1365000\n",
      "1370000\n",
      "1375000\n",
      "1380000\n",
      "1385000\n",
      "1390000\n",
      "1395000\n",
      "1400000\n",
      "1405000\n",
      "1410000\n",
      "1415000\n",
      "1420000\n",
      "1425000\n"
     ]
    },
    {
     "name": "stderr",
     "output_type": "stream",
     "text": [
      "Rate limit reached. Sleeping for: 889\n"
     ]
    },
    {
     "name": "stdout",
     "output_type": "stream",
     "text": [
      "1430000\n",
      "1435000\n",
      "1440000\n",
      "1445000\n",
      "1450000\n",
      "1455000\n",
      "1460000\n",
      "1465000\n",
      "1470000\n",
      "1475000\n",
      "1480000\n",
      "1485000\n",
      "1490000\n",
      "1495000\n",
      "1500000\n"
     ]
    },
    {
     "name": "stderr",
     "output_type": "stream",
     "text": [
      "Rate limit reached. Sleeping for: 889\n"
     ]
    },
    {
     "name": "stdout",
     "output_type": "stream",
     "text": [
      "1505000\n",
      "1510000\n",
      "1515000\n",
      "1520000\n",
      "1525000\n",
      "1530000\n",
      "1535000\n",
      "1540000\n",
      "1545000\n",
      "1550000\n",
      "1555000\n",
      "1560000\n",
      "1565000\n",
      "1570000\n",
      "1575000\n"
     ]
    },
    {
     "name": "stderr",
     "output_type": "stream",
     "text": [
      "Rate limit reached. Sleeping for: 887\n"
     ]
    },
    {
     "name": "stdout",
     "output_type": "stream",
     "text": [
      "1580000\n",
      "1585000\n",
      "1590000\n",
      "1595000\n",
      "1600000\n",
      "1605000\n",
      "1610000\n",
      "1615000\n",
      "1620000\n",
      "1625000\n",
      "1630000\n",
      "1635000\n",
      "1640000\n",
      "1645000\n",
      "1650000\n"
     ]
    },
    {
     "name": "stderr",
     "output_type": "stream",
     "text": [
      "Rate limit reached. Sleeping for: 889\n"
     ]
    },
    {
     "name": "stdout",
     "output_type": "stream",
     "text": [
      "1655000\n",
      "1660000\n",
      "1665000\n",
      "1670000\n",
      "1675000\n",
      "1680000\n",
      "1685000\n",
      "1690000\n",
      "1695000\n",
      "1700000\n",
      "1705000\n",
      "1710000\n",
      "1715000\n",
      "1720000\n",
      "1725000\n"
     ]
    },
    {
     "name": "stderr",
     "output_type": "stream",
     "text": [
      "Rate limit reached. Sleeping for: 888\n"
     ]
    },
    {
     "name": "stdout",
     "output_type": "stream",
     "text": [
      "1730000\n",
      "1735000\n",
      "1740000\n",
      "1745000\n",
      "1750000\n",
      "1755000\n",
      "1760000\n",
      "1765000\n",
      "1770000\n",
      "1775000\n",
      "1780000\n",
      "1785000\n",
      "1790000\n",
      "1795000\n",
      "1800000\n"
     ]
    },
    {
     "name": "stderr",
     "output_type": "stream",
     "text": [
      "Rate limit reached. Sleeping for: 889\n"
     ]
    },
    {
     "name": "stdout",
     "output_type": "stream",
     "text": [
      "1805000\n",
      "1810000\n",
      "1815000\n",
      "1820000\n",
      "1825000\n",
      "1830000\n",
      "1835000\n",
      "1840000\n",
      "1845000\n",
      "1850000\n",
      "1855000\n",
      "1860000\n",
      "1865000\n",
      "1870000\n",
      "1875000\n"
     ]
    },
    {
     "name": "stderr",
     "output_type": "stream",
     "text": [
      "Rate limit reached. Sleeping for: 889\n"
     ]
    },
    {
     "name": "stdout",
     "output_type": "stream",
     "text": [
      "1880000\n",
      "1885000\n",
      "1890000\n",
      "1895000\n",
      "1900000\n",
      "1905000\n",
      "1910000\n",
      "1915000\n",
      "1920000\n",
      "1925000\n",
      "1930000\n",
      "1935000\n",
      "1940000\n",
      "1945000\n",
      "1950000\n"
     ]
    },
    {
     "name": "stderr",
     "output_type": "stream",
     "text": [
      "Rate limit reached. Sleeping for: 889\n"
     ]
    },
    {
     "name": "stdout",
     "output_type": "stream",
     "text": [
      "1955000\n",
      "1960000\n",
      "1965000\n",
      "1970000\n",
      "1975000\n",
      "1980000\n",
      "1985000\n",
      "1990000\n",
      "1995000\n",
      "2000000\n",
      "2005000\n",
      "2010000\n",
      "2015000\n",
      "2020000\n",
      "2025000\n"
     ]
    },
    {
     "name": "stderr",
     "output_type": "stream",
     "text": [
      "Rate limit reached. Sleeping for: 888\n"
     ]
    },
    {
     "name": "stdout",
     "output_type": "stream",
     "text": [
      "2030000\n",
      "2035000\n",
      "2040000\n",
      "2045000\n",
      "2050000\n",
      "2055000\n",
      "2060000\n",
      "2065000\n",
      "2070000\n",
      "2075000\n",
      "2080000\n",
      "2085000\n",
      "2090000\n",
      "2095000\n",
      "2100000\n"
     ]
    },
    {
     "name": "stderr",
     "output_type": "stream",
     "text": [
      "Rate limit reached. Sleeping for: 889\n"
     ]
    },
    {
     "name": "stdout",
     "output_type": "stream",
     "text": [
      "2105000\n",
      "2110000\n",
      "2115000\n",
      "2120000\n",
      "2125000\n",
      "2130000\n",
      "2135000\n",
      "2140000\n",
      "2145000\n",
      "2150000\n",
      "2155000\n",
      "2160000\n",
      "2165000\n",
      "2170000\n",
      "2175000\n"
     ]
    },
    {
     "name": "stderr",
     "output_type": "stream",
     "text": [
      "Rate limit reached. Sleeping for: 889\n"
     ]
    },
    {
     "name": "stdout",
     "output_type": "stream",
     "text": [
      "2180000\n",
      "2185000\n",
      "2190000\n",
      "2195000\n",
      "2200000\n",
      "2205000\n",
      "2210000\n",
      "2215000\n",
      "2220000\n",
      "2225000\n",
      "2230000\n",
      "2235000\n",
      "2240000\n",
      "2245000\n",
      "2250000\n"
     ]
    },
    {
     "name": "stderr",
     "output_type": "stream",
     "text": [
      "Rate limit reached. Sleeping for: 889\n"
     ]
    },
    {
     "name": "stdout",
     "output_type": "stream",
     "text": [
      "2255000\n",
      "2260000\n",
      "2265000\n",
      "2270000\n",
      "2275000\n",
      "2280000\n",
      "2285000\n",
      "2290000\n",
      "2295000\n",
      "2300000\n",
      "2305000\n",
      "2310000\n",
      "2315000\n",
      "2320000\n",
      "2325000\n"
     ]
    },
    {
     "name": "stderr",
     "output_type": "stream",
     "text": [
      "Rate limit reached. Sleeping for: 889\n"
     ]
    },
    {
     "name": "stdout",
     "output_type": "stream",
     "text": [
      "2330000\n",
      "2335000\n",
      "2340000\n",
      "2345000\n",
      "2350000\n",
      "2355000\n",
      "2360000\n",
      "2365000\n",
      "2370000\n",
      "2375000\n",
      "2380000\n",
      "2385000\n",
      "2390000\n",
      "2395000\n",
      "2400000\n"
     ]
    },
    {
     "name": "stderr",
     "output_type": "stream",
     "text": [
      "Rate limit reached. Sleeping for: 889\n"
     ]
    },
    {
     "name": "stdout",
     "output_type": "stream",
     "text": [
      "2405000\n",
      "2410000\n",
      "2415000\n",
      "2420000\n",
      "2425000\n",
      "2430000\n",
      "2435000\n",
      "2440000\n",
      "2445000\n",
      "2450000\n",
      "2455000\n",
      "2460000\n",
      "2465000\n",
      "2470000\n",
      "2475000\n"
     ]
    },
    {
     "name": "stderr",
     "output_type": "stream",
     "text": [
      "Rate limit reached. Sleeping for: 888\n"
     ]
    },
    {
     "name": "stdout",
     "output_type": "stream",
     "text": [
      "2480000\n",
      "2485000\n",
      "2490000\n",
      "2495000\n",
      "2500000\n",
      "2505000\n",
      "2510000\n",
      "2515000\n",
      "2520000\n",
      "2525000\n",
      "2530000\n",
      "2535000\n",
      "2540000\n",
      "2545000\n",
      "2550000\n"
     ]
    },
    {
     "name": "stderr",
     "output_type": "stream",
     "text": [
      "Rate limit reached. Sleeping for: 888\n"
     ]
    },
    {
     "name": "stdout",
     "output_type": "stream",
     "text": [
      "2555000\n",
      "2560000\n",
      "2565000\n",
      "2570000\n",
      "2575000\n",
      "2580000\n",
      "2585000\n",
      "2590000\n",
      "2595000\n",
      "2600000\n",
      "2605000\n",
      "2610000\n",
      "2615000\n",
      "2620000\n",
      "2625000\n"
     ]
    },
    {
     "name": "stderr",
     "output_type": "stream",
     "text": [
      "Rate limit reached. Sleeping for: 888\n"
     ]
    },
    {
     "name": "stdout",
     "output_type": "stream",
     "text": [
      "2630000\n",
      "2635000\n",
      "2640000\n",
      "2645000\n",
      "2650000\n",
      "2655000\n",
      "2660000\n",
      "2665000\n",
      "2670000\n",
      "2675000\n",
      "2680000\n",
      "2685000\n",
      "2690000\n",
      "2695000\n",
      "2700000\n"
     ]
    },
    {
     "name": "stderr",
     "output_type": "stream",
     "text": [
      "Rate limit reached. Sleeping for: 889\n"
     ]
    },
    {
     "name": "stdout",
     "output_type": "stream",
     "text": [
      "2705000\n",
      "2710000\n",
      "2715000\n",
      "2720000\n",
      "2725000\n",
      "2730000\n",
      "2735000\n",
      "2740000\n",
      "2745000\n",
      "2750000\n",
      "2755000\n",
      "2760000\n",
      "2765000\n",
      "2770000\n",
      "2775000\n"
     ]
    },
    {
     "name": "stderr",
     "output_type": "stream",
     "text": [
      "Rate limit reached. Sleeping for: 889\n"
     ]
    },
    {
     "name": "stdout",
     "output_type": "stream",
     "text": [
      "2780000\n",
      "2785000\n",
      "2790000\n",
      "2795000\n",
      "2800000\n",
      "2805000\n",
      "2810000\n",
      "2815000\n",
      "2820000\n",
      "2825000\n",
      "2830000\n",
      "2835000\n",
      "2840000\n",
      "2845000\n",
      "2850000\n"
     ]
    },
    {
     "name": "stderr",
     "output_type": "stream",
     "text": [
      "Rate limit reached. Sleeping for: 889\n"
     ]
    },
    {
     "name": "stdout",
     "output_type": "stream",
     "text": [
      "2855000\n",
      "2860000\n",
      "2865000\n",
      "2870000\n",
      "2875000\n",
      "2880000\n",
      "2885000\n",
      "2890000\n",
      "2895000\n",
      "2900000\n",
      "2905000\n",
      "2910000\n",
      "2915000\n",
      "2920000\n",
      "2925000\n"
     ]
    },
    {
     "name": "stderr",
     "output_type": "stream",
     "text": [
      "Rate limit reached. Sleeping for: 889\n"
     ]
    },
    {
     "name": "stdout",
     "output_type": "stream",
     "text": [
      "2930000\n",
      "2935000\n",
      "2940000\n",
      "2945000\n",
      "2950000\n",
      "2955000\n",
      "2960000\n",
      "2965000\n",
      "2970000\n",
      "2975000\n",
      "2980000\n",
      "2985000\n",
      "2990000\n",
      "2995000\n",
      "3000000\n"
     ]
    },
    {
     "name": "stderr",
     "output_type": "stream",
     "text": [
      "Rate limit reached. Sleeping for: 889\n"
     ]
    },
    {
     "name": "stdout",
     "output_type": "stream",
     "text": [
      "3005000\n",
      "3010000\n",
      "3015000\n",
      "3020000\n",
      "3025000\n",
      "3030000\n",
      "3035000\n",
      "3040000\n",
      "3045000\n",
      "3050000\n",
      "3055000\n",
      "3060000\n",
      "3065000\n",
      "3070000\n",
      "3075000\n"
     ]
    },
    {
     "name": "stderr",
     "output_type": "stream",
     "text": [
      "Rate limit reached. Sleeping for: 888\n"
     ]
    },
    {
     "name": "stdout",
     "output_type": "stream",
     "text": [
      "3080000\n",
      "3085000\n",
      "3090000\n",
      "3095000\n",
      "3100000\n",
      "3105000\n",
      "3110000\n",
      "3115000\n",
      "3120000\n",
      "3125000\n",
      "3130000\n",
      "3135000\n",
      "3140000\n",
      "3145000\n",
      "3150000\n"
     ]
    },
    {
     "name": "stderr",
     "output_type": "stream",
     "text": [
      "Rate limit reached. Sleeping for: 888\n"
     ]
    },
    {
     "name": "stdout",
     "output_type": "stream",
     "text": [
      "3155000\n",
      "3160000\n",
      "3165000\n",
      "3170000\n",
      "3175000\n",
      "3180000\n",
      "3185000\n",
      "3190000\n",
      "3195000\n",
      "3200000\n",
      "3205000\n",
      "3210000\n",
      "3215000\n",
      "3220000\n",
      "3225000\n"
     ]
    },
    {
     "name": "stderr",
     "output_type": "stream",
     "text": [
      "Rate limit reached. Sleeping for: 889\n"
     ]
    },
    {
     "name": "stdout",
     "output_type": "stream",
     "text": [
      "3230000\n",
      "3235000\n",
      "3240000\n",
      "3245000\n",
      "3250000\n",
      "3255000\n",
      "3260000\n",
      "3265000\n",
      "3270000\n",
      "3275000\n",
      "3280000\n",
      "3285000\n",
      "3290000\n",
      "3295000\n",
      "3300000\n"
     ]
    },
    {
     "name": "stderr",
     "output_type": "stream",
     "text": [
      "Rate limit reached. Sleeping for: 889\n"
     ]
    },
    {
     "name": "stdout",
     "output_type": "stream",
     "text": [
      "3305000\n",
      "3310000\n",
      "3315000\n",
      "3320000\n",
      "3325000\n",
      "3330000\n",
      "3335000\n",
      "3340000\n",
      "3345000\n",
      "3350000\n",
      "3355000\n",
      "3360000\n",
      "3365000\n",
      "3370000\n",
      "3375000\n"
     ]
    },
    {
     "name": "stderr",
     "output_type": "stream",
     "text": [
      "Rate limit reached. Sleeping for: 888\n"
     ]
    },
    {
     "name": "stdout",
     "output_type": "stream",
     "text": [
      "3380000\n",
      "3385000\n",
      "3390000\n",
      "3395000\n",
      "3400000\n",
      "3405000\n",
      "3410000\n",
      "3415000\n",
      "3420000\n",
      "3425000\n",
      "3430000\n",
      "3435000\n",
      "3440000\n",
      "3445000\n",
      "3450000\n"
     ]
    },
    {
     "name": "stderr",
     "output_type": "stream",
     "text": [
      "Rate limit reached. Sleeping for: 889\n"
     ]
    },
    {
     "name": "stdout",
     "output_type": "stream",
     "text": [
      "3455000\n",
      "3460000\n",
      "3465000\n",
      "3470000\n",
      "3475000\n",
      "3480000\n",
      "3485000\n",
      "3490000\n",
      "3495000\n",
      "3500000\n",
      "3505000\n",
      "3510000\n",
      "3515000\n",
      "3520000\n",
      "3525000\n"
     ]
    },
    {
     "name": "stderr",
     "output_type": "stream",
     "text": [
      "Rate limit reached. Sleeping for: 888\n"
     ]
    },
    {
     "name": "stdout",
     "output_type": "stream",
     "text": [
      "3530000\n",
      "3535000\n",
      "3540000\n",
      "3545000\n",
      "3550000\n",
      "3555000\n",
      "3560000\n",
      "3565000\n",
      "3570000\n",
      "3575000\n",
      "3580000\n",
      "3585000\n",
      "3590000\n",
      "3595000\n",
      "3600000\n"
     ]
    },
    {
     "name": "stderr",
     "output_type": "stream",
     "text": [
      "Rate limit reached. Sleeping for: 889\n"
     ]
    },
    {
     "name": "stdout",
     "output_type": "stream",
     "text": [
      "3605000\n",
      "3610000\n",
      "3615000\n",
      "3620000\n",
      "3625000\n",
      "3630000\n",
      "3635000\n",
      "3640000\n",
      "3645000\n",
      "3650000\n",
      "3655000\n",
      "3660000\n",
      "3665000\n",
      "3670000\n",
      "3675000\n"
     ]
    },
    {
     "name": "stderr",
     "output_type": "stream",
     "text": [
      "Rate limit reached. Sleeping for: 889\n"
     ]
    },
    {
     "name": "stdout",
     "output_type": "stream",
     "text": [
      "3680000\n",
      "3685000\n",
      "3690000\n",
      "3695000\n",
      "3700000\n",
      "3705000\n",
      "3710000\n",
      "3715000\n",
      "3720000\n",
      "3725000\n",
      "3730000\n",
      "3735000\n",
      "3740000\n",
      "3745000\n",
      "3750000\n"
     ]
    },
    {
     "name": "stderr",
     "output_type": "stream",
     "text": [
      "Rate limit reached. Sleeping for: 889\n"
     ]
    },
    {
     "name": "stdout",
     "output_type": "stream",
     "text": [
      "3755000\n",
      "3760000\n",
      "3765000\n",
      "3770000\n",
      "3775000\n",
      "3780000\n",
      "3785000\n",
      "3790000\n",
      "3795000\n",
      "3800000\n",
      "3805000\n",
      "3810000\n",
      "3815000\n",
      "3820000\n",
      "3825000\n"
     ]
    },
    {
     "name": "stderr",
     "output_type": "stream",
     "text": [
      "Rate limit reached. Sleeping for: 889\n"
     ]
    },
    {
     "name": "stdout",
     "output_type": "stream",
     "text": [
      "3830000\n",
      "3835000\n",
      "3840000\n",
      "3845000\n",
      "3850000\n",
      "3855000\n",
      "3860000\n",
      "3865000\n",
      "3870000\n",
      "3875000\n",
      "3880000\n",
      "3885000\n",
      "3890000\n",
      "3895000\n",
      "3900000\n"
     ]
    },
    {
     "name": "stderr",
     "output_type": "stream",
     "text": [
      "Rate limit reached. Sleeping for: 889\n"
     ]
    },
    {
     "name": "stdout",
     "output_type": "stream",
     "text": [
      "3905000\n",
      "3910000\n",
      "3915000\n",
      "3920000\n",
      "3925000\n",
      "3930000\n",
      "3935000\n",
      "3940000\n",
      "3945000\n",
      "3950000\n",
      "3955000\n",
      "3960000\n",
      "3965000\n",
      "3970000\n",
      "3975000\n"
     ]
    },
    {
     "name": "stderr",
     "output_type": "stream",
     "text": [
      "Rate limit reached. Sleeping for: 889\n"
     ]
    },
    {
     "name": "stdout",
     "output_type": "stream",
     "text": [
      "3980000\n",
      "3985000\n",
      "3990000\n",
      "3995000\n",
      "4000000\n",
      "4005000\n",
      "4010000\n",
      "4015000\n",
      "4020000\n",
      "4025000\n",
      "4030000\n",
      "4035000\n",
      "4040000\n",
      "4045000\n",
      "4050000\n"
     ]
    },
    {
     "name": "stderr",
     "output_type": "stream",
     "text": [
      "Rate limit reached. Sleeping for: 889\n"
     ]
    },
    {
     "name": "stdout",
     "output_type": "stream",
     "text": [
      "4055000\n",
      "4060000\n",
      "4065000\n",
      "4070000\n",
      "4075000\n",
      "4080000\n",
      "4085000\n",
      "4090000\n",
      "4095000\n",
      "4100000\n",
      "4105000\n",
      "4110000\n",
      "4115000\n",
      "4120000\n",
      "4125000\n"
     ]
    },
    {
     "name": "stderr",
     "output_type": "stream",
     "text": [
      "Rate limit reached. Sleeping for: 889\n"
     ]
    },
    {
     "name": "stdout",
     "output_type": "stream",
     "text": [
      "4130000\n",
      "4135000\n",
      "4140000\n",
      "4145000\n",
      "4150000\n",
      "4155000\n",
      "4160000\n",
      "4165000\n",
      "4170000\n",
      "4175000\n",
      "4180000\n",
      "4185000\n",
      "4190000\n",
      "4195000\n",
      "4200000\n"
     ]
    },
    {
     "name": "stderr",
     "output_type": "stream",
     "text": [
      "Rate limit reached. Sleeping for: 889\n",
      "Rate limit reached. Sleeping for: 1\n"
     ]
    },
    {
     "name": "stdout",
     "output_type": "stream",
     "text": [
      "4205000\n",
      "4210000\n",
      "4215000\n",
      "4220000\n",
      "4225000\n",
      "4230000\n",
      "4235000\n",
      "4240000\n",
      "4245000\n",
      "4250000\n",
      "4255000\n",
      "4260000\n",
      "4265000\n",
      "4270000\n",
      "4275000\n"
     ]
    },
    {
     "name": "stderr",
     "output_type": "stream",
     "text": [
      "Rate limit reached. Sleeping for: 891\n"
     ]
    },
    {
     "name": "stdout",
     "output_type": "stream",
     "text": [
      "4280000\n",
      "4285000\n",
      "4290000\n",
      "4295000\n",
      "4300000\n",
      "4305000\n",
      "4310000\n",
      "4315000\n",
      "4320000\n",
      "4325000\n",
      "4330000\n",
      "4335000\n",
      "4340000\n",
      "4345000\n",
      "4350000\n"
     ]
    },
    {
     "name": "stderr",
     "output_type": "stream",
     "text": [
      "Rate limit reached. Sleeping for: 890\n"
     ]
    },
    {
     "name": "stdout",
     "output_type": "stream",
     "text": [
      "4355000\n",
      "4360000\n",
      "4365000\n",
      "4370000\n",
      "4375000\n",
      "4380000\n",
      "4385000\n",
      "4390000\n",
      "4395000\n",
      "4400000\n",
      "4405000\n",
      "4410000\n",
      "4415000\n",
      "4420000\n",
      "4425000\n"
     ]
    },
    {
     "name": "stderr",
     "output_type": "stream",
     "text": [
      "Rate limit reached. Sleeping for: 891\n"
     ]
    },
    {
     "name": "stdout",
     "output_type": "stream",
     "text": [
      "4430000\n",
      "4435000\n",
      "4440000\n",
      "4445000\n",
      "4450000\n",
      "4455000\n",
      "4460000\n",
      "4465000\n",
      "4470000\n",
      "4475000\n",
      "4480000\n",
      "4485000\n",
      "4490000\n",
      "4495000\n",
      "4500000\n"
     ]
    },
    {
     "name": "stderr",
     "output_type": "stream",
     "text": [
      "Rate limit reached. Sleeping for: 891\n"
     ]
    },
    {
     "name": "stdout",
     "output_type": "stream",
     "text": [
      "4505000\n",
      "4510000\n",
      "4515000\n",
      "4520000\n",
      "4525000\n",
      "4530000\n",
      "4535000\n",
      "4540000\n",
      "4545000\n",
      "4550000\n",
      "4555000\n",
      "4560000\n",
      "4565000\n",
      "4570000\n",
      "4575000\n"
     ]
    },
    {
     "name": "stderr",
     "output_type": "stream",
     "text": [
      "Rate limit reached. Sleeping for: 891\n"
     ]
    },
    {
     "name": "stdout",
     "output_type": "stream",
     "text": [
      "4580000\n",
      "4585000\n",
      "4590000\n",
      "4595000\n",
      "4600000\n",
      "4605000\n",
      "4610000\n",
      "4615000\n",
      "4620000\n",
      "4625000\n",
      "4630000\n",
      "4635000\n",
      "4640000\n",
      "4645000\n",
      "4650000\n"
     ]
    },
    {
     "name": "stderr",
     "output_type": "stream",
     "text": [
      "Rate limit reached. Sleeping for: 891\n"
     ]
    },
    {
     "name": "stdout",
     "output_type": "stream",
     "text": [
      "4655000\n",
      "4660000\n",
      "4665000\n",
      "4670000\n",
      "4675000\n",
      "4680000\n",
      "4685000\n",
      "4690000\n",
      "4695000\n",
      "4700000\n",
      "4705000\n",
      "4710000\n",
      "4715000\n",
      "4720000\n",
      "4725000\n"
     ]
    },
    {
     "name": "stderr",
     "output_type": "stream",
     "text": [
      "Rate limit reached. Sleeping for: 890\n"
     ]
    },
    {
     "name": "stdout",
     "output_type": "stream",
     "text": [
      "4730000\n",
      "4735000\n",
      "4740000\n",
      "4745000\n",
      "4750000\n",
      "4755000\n",
      "4760000\n",
      "4765000\n",
      "4770000\n",
      "4775000\n",
      "4780000\n",
      "4785000\n",
      "4790000\n",
      "4795000\n",
      "4800000\n"
     ]
    },
    {
     "name": "stderr",
     "output_type": "stream",
     "text": [
      "Rate limit reached. Sleeping for: 890\n"
     ]
    },
    {
     "name": "stdout",
     "output_type": "stream",
     "text": [
      "4805000\n",
      "4810000\n",
      "4815000\n",
      "4820000\n",
      "4825000\n",
      "4830000\n",
      "4835000\n",
      "4840000\n",
      "4845000\n",
      "4850000\n",
      "4855000\n",
      "4860000\n",
      "4865000\n",
      "4870000\n",
      "4875000\n"
     ]
    },
    {
     "name": "stderr",
     "output_type": "stream",
     "text": [
      "Rate limit reached. Sleeping for: 891\n"
     ]
    },
    {
     "name": "stdout",
     "output_type": "stream",
     "text": [
      "4880000\n",
      "4885000\n",
      "4890000\n",
      "4895000\n",
      "4900000\n",
      "4905000\n",
      "4910000\n",
      "4915000\n",
      "4920000\n",
      "4925000\n",
      "4929850\n"
     ]
    }
   ],
   "source": [
    "user_list = [\"85221650\"]\n",
    "follower_list = []\n",
    "for user in user_list:\n",
    "    followers = []\n",
    "    for page in tweepy.Cursor(api.get_follower_ids, user_id=user).pages():\n",
    "            followers.extend(page)\n",
    "            print(len(followers))\n",
    "    \n",
    "    follower_list.append(followers)"
   ]
  },
  {
   "cell_type": "code",
   "execution_count": 9,
   "metadata": {},
   "outputs": [],
   "source": [
    "import pandas as pd\n",
    "df = pd.DataFrame(columns=['source','target']) #Empty DataFrame\n",
    "df['target'] = follower_list[0] #Set the list of followers as the target column\n",
    "df['source'] = 85221650 #Set user ID as the source \n",
    "df.to_csv(\"cbn_followers.csv\")"
   ]
  },
  {
   "cell_type": "code",
   "execution_count": 12,
   "metadata": {},
   "outputs": [
    {
     "name": "stdout",
     "output_type": "stream",
     "text": [
      "1468462468699619329\n"
     ]
    },
    {
     "ename": "TypeError",
     "evalue": "get_user() takes 1 positional argument but 2 were given",
     "output_type": "error",
     "traceback": [
      "\u001b[1;31m---------------------------------------------------------------------------\u001b[0m",
      "\u001b[1;31mTypeError\u001b[0m                                 Traceback (most recent call last)",
      "\u001b[1;32m<ipython-input-12-0b53fff63f3b>\u001b[0m in \u001b[0;36m<module>\u001b[1;34m\u001b[0m\n\u001b[0;32m      6\u001b[0m \u001b[1;33m\u001b[0m\u001b[0m\n\u001b[0;32m      7\u001b[0m     \u001b[1;31m# fetching the user\u001b[0m\u001b[1;33m\u001b[0m\u001b[1;33m\u001b[0m\u001b[1;33m\u001b[0m\u001b[0m\n\u001b[1;32m----> 8\u001b[1;33m     \u001b[0muser\u001b[0m \u001b[1;33m=\u001b[0m \u001b[0mapi\u001b[0m\u001b[1;33m.\u001b[0m\u001b[0mget_user\u001b[0m\u001b[1;33m(\u001b[0m\u001b[0muserID\u001b[0m\u001b[1;33m)\u001b[0m\u001b[1;33m\u001b[0m\u001b[1;33m\u001b[0m\u001b[0m\n\u001b[0m\u001b[0;32m      9\u001b[0m \u001b[1;33m\u001b[0m\u001b[0m\n\u001b[0;32m     10\u001b[0m     \u001b[1;31m# fetching the followers_count\u001b[0m\u001b[1;33m\u001b[0m\u001b[1;33m\u001b[0m\u001b[1;33m\u001b[0m\u001b[0m\n",
      "\u001b[1;32mC:\\ProgramData\\Anaconda3\\lib\\site-packages\\tweepy\\api.py\u001b[0m in \u001b[0;36mwrapper\u001b[1;34m(*args, **kwargs)\u001b[0m\n\u001b[0;32m     44\u001b[0m             \u001b[0mkwargs\u001b[0m\u001b[1;33m[\u001b[0m\u001b[1;34m'payload_list'\u001b[0m\u001b[1;33m]\u001b[0m \u001b[1;33m=\u001b[0m \u001b[0mpayload_list\u001b[0m\u001b[1;33m\u001b[0m\u001b[1;33m\u001b[0m\u001b[0m\n\u001b[0;32m     45\u001b[0m             \u001b[0mkwargs\u001b[0m\u001b[1;33m[\u001b[0m\u001b[1;34m'payload_type'\u001b[0m\u001b[1;33m]\u001b[0m \u001b[1;33m=\u001b[0m \u001b[0mpayload_type\u001b[0m\u001b[1;33m\u001b[0m\u001b[1;33m\u001b[0m\u001b[0m\n\u001b[1;32m---> 46\u001b[1;33m             \u001b[1;32mreturn\u001b[0m \u001b[0mmethod\u001b[0m\u001b[1;33m(\u001b[0m\u001b[1;33m*\u001b[0m\u001b[0margs\u001b[0m\u001b[1;33m,\u001b[0m \u001b[1;33m**\u001b[0m\u001b[0mkwargs\u001b[0m\u001b[1;33m)\u001b[0m\u001b[1;33m\u001b[0m\u001b[1;33m\u001b[0m\u001b[0m\n\u001b[0m\u001b[0;32m     47\u001b[0m         \u001b[0mwrapper\u001b[0m\u001b[1;33m.\u001b[0m\u001b[0mpayload_list\u001b[0m \u001b[1;33m=\u001b[0m \u001b[0mpayload_list\u001b[0m\u001b[1;33m\u001b[0m\u001b[1;33m\u001b[0m\u001b[0m\n\u001b[0;32m     48\u001b[0m         \u001b[0mwrapper\u001b[0m\u001b[1;33m.\u001b[0m\u001b[0mpayload_type\u001b[0m \u001b[1;33m=\u001b[0m \u001b[0mpayload_type\u001b[0m\u001b[1;33m\u001b[0m\u001b[1;33m\u001b[0m\u001b[0m\n",
      "\u001b[1;31mTypeError\u001b[0m: get_user() takes 1 positional argument but 2 were given"
     ]
    }
   ],
   "source": [
    "user_list = list(df['target']) #Use the list of followers we extracted in the code above i.e. my 450 followers\n",
    "for userID in user_list:\n",
    "    print(userID)\n",
    "    followers = []\n",
    "    follower_list = []\n",
    "\n",
    "    # fetching the user\n",
    "    user = api.get_user(userID)\n",
    "\n",
    "    # fetching the followers_count\n",
    "    followers_count = user.followers_count\n",
    "\n",
    "    for page in tweepy.Cursor(api.get_follower_ids, user_id=userID).pages():\n",
    "            followers.extend(page)\n",
    "            print(len(followers))\n",
    "            if followers_count >= 10000: #Only take first 5000 followers\n",
    "                break\n",
    "    follower_list.append(followers)\n",
    "    temp = pd.DataFrame(columns=['source', 'target'])\n",
    "    temp['target'] = follower_list[0]\n",
    "    temp['source'] = userID\n",
    "    df = df.append(temp)\n",
    "    df.to_csv(\"networkOfFollowers.csv\")"
   ]
  },
  {
   "cell_type": "code",
   "execution_count": null,
   "metadata": {},
   "outputs": [],
   "source": [
    "df = pd.read_csv(“networkOfFollowers.csv”) #Read into a df\n",
    "G = nx.from_pandas_edgelist(df, 'source', 'target')"
   ]
  },
  {
   "cell_type": "code",
   "execution_count": null,
   "metadata": {},
   "outputs": [],
   "source": [
    "G_sorted = pd.DataFrame(sorted(G.degree, key=lambda x: x[1], reverse=True))\n",
    "G_sorted.columns = [‘nconst’,’degree’]\n",
    "G_sorted.head()"
   ]
  },
  {
   "cell_type": "code",
   "execution_count": null,
   "metadata": {},
   "outputs": [],
   "source": []
  }
 ],
 "metadata": {
  "kernelspec": {
   "display_name": "Python 3 (ipykernel)",
   "language": "python",
   "name": "python3"
  },
  "language_info": {
   "codemirror_mode": {
    "name": "ipython",
    "version": 3
   },
   "file_extension": ".py",
   "mimetype": "text/x-python",
   "name": "python",
   "nbconvert_exporter": "python",
   "pygments_lexer": "ipython3",
   "version": "3.9.7"
  }
 },
 "nbformat": 4,
 "nbformat_minor": 4
}
